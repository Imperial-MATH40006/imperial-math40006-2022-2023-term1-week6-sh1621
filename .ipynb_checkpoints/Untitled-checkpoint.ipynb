{
 "cells": [
  {
   "cell_type": "code",
   "execution_count": 1,
   "id": "a3dcbdfa",
   "metadata": {},
   "outputs": [],
   "source": [
    "int1=123\n",
    "int2=456\n",
    "int3=789"
   ]
  },
  {
   "cell_type": "code",
   "execution_count": 2,
   "id": "aec9d498",
   "metadata": {},
   "outputs": [],
   "source": [
    "float1=123.0\n",
    "float2=456.0\n",
    "float3=789.0"
   ]
  },
  {
   "cell_type": "code",
   "execution_count": 17,
   "id": "93ca3536",
   "metadata": {},
   "outputs": [
    {
     "data": {
      "text/plain": [
       "int"
      ]
     },
     "execution_count": 17,
     "metadata": {},
     "output_type": "execute_result"
    }
   ],
   "source": [
    "type(int2)"
   ]
  },
  {
   "cell_type": "code",
   "execution_count": 18,
   "id": "597002d8",
   "metadata": {},
   "outputs": [
    {
     "data": {
      "text/plain": [
       "float"
      ]
     },
     "execution_count": 18,
     "metadata": {},
     "output_type": "execute_result"
    }
   ],
   "source": [
    "type(int1)"
   ]
  },
  {
   "cell_type": "code",
   "execution_count": 14,
   "id": "a39d282d",
   "metadata": {},
   "outputs": [
    {
     "data": {
      "text/plain": [
       "float"
      ]
     },
     "execution_count": 14,
     "metadata": {},
     "output_type": "execute_result"
    }
   ],
   "source": [
    "type(int1)"
   ]
  },
  {
   "cell_type": "code",
   "execution_count": 15,
   "id": "cf0bb099",
   "metadata": {},
   "outputs": [
    {
     "data": {
      "text/plain": [
       "float"
      ]
     },
     "execution_count": 15,
     "metadata": {},
     "output_type": "execute_result"
    }
   ],
   "source": [
    "type(float1)"
   ]
  },
  {
   "cell_type": "code",
   "execution_count": 19,
   "id": "6894f464",
   "metadata": {},
   "outputs": [
    {
     "data": {
      "text/plain": [
       "float"
      ]
     },
     "execution_count": 19,
     "metadata": {},
     "output_type": "execute_result"
    }
   ],
   "source": [
    "type(float1)"
   ]
  },
  {
   "cell_type": "code",
   "execution_count": 20,
   "id": "ef54a5f3",
   "metadata": {},
   "outputs": [
    {
     "data": {
      "text/plain": [
       "float"
      ]
     },
     "execution_count": 20,
     "metadata": {},
     "output_type": "execute_result"
    }
   ],
   "source": [
    "type(int1)"
   ]
  },
  {
   "cell_type": "code",
   "execution_count": 21,
   "id": "af65d055",
   "metadata": {},
   "outputs": [
    {
     "data": {
      "text/plain": [
       "579.0"
      ]
     },
     "execution_count": 21,
     "metadata": {},
     "output_type": "execute_result"
    }
   ],
   "source": [
    "int1+int2"
   ]
  },
  {
   "cell_type": "code",
   "execution_count": 22,
   "id": "5904da88",
   "metadata": {},
   "outputs": [
    {
     "data": {
      "text/plain": [
       "1245"
      ]
     },
     "execution_count": 22,
     "metadata": {},
     "output_type": "execute_result"
    }
   ],
   "source": [
    "int2+int3"
   ]
  },
  {
   "cell_type": "code",
   "execution_count": 23,
   "id": "589e1ed7",
   "metadata": {},
   "outputs": [
    {
     "data": {
      "text/plain": [
       "1245.0"
      ]
     },
     "execution_count": 23,
     "metadata": {},
     "output_type": "execute_result"
    }
   ],
   "source": [
    "float2+float3"
   ]
  },
  {
   "cell_type": "code",
   "execution_count": 24,
   "id": "0702e27d",
   "metadata": {},
   "outputs": [
    {
     "data": {
      "text/plain": [
       "1578.0"
      ]
     },
     "execution_count": 24,
     "metadata": {},
     "output_type": "execute_result"
    }
   ],
   "source": [
    "int3+float3"
   ]
  },
  {
   "cell_type": "code",
   "execution_count": 25,
   "id": "6a30140e",
   "metadata": {},
   "outputs": [
    {
     "data": {
      "text/plain": [
       "1578.0"
      ]
     },
     "execution_count": 25,
     "metadata": {},
     "output_type": "execute_result"
    }
   ],
   "source": [
    "float3+int3"
   ]
  },
  {
   "cell_type": "code",
   "execution_count": 26,
   "id": "4bf49094",
   "metadata": {},
   "outputs": [
    {
     "data": {
      "text/plain": [
       "11671144968120217442965130663785919831219553387873637792807207843412818693963013042410256726353084608682184642331153477505176986533076010058481691902559436806200400848626897029558767384490921866750788001242880249722790955826164652467922458898804952006938731139442354313555661960870284862633008754031774836555463199871699196892165387441810191939078573755483282811130940309716574185462533315592755741737583875822178323087677937087312642946144953396841701074803855007017178875611355993314986499852954964416078914752189439535938244354358914158009650621564746807890499362496664545398552600890030639711163546312160221740024418669277796090689643677752245205548185884061035409924377557613311248932595298784803333998794632063061479109456308594418076874637381967641905685240850957335601870732717407498783216165645233746905585839183614313594948908277716472088479799907313466278562374099483005637782137214911445531704457155558774375316744631797546513228325912008610288403260908579133758510949392000688445564919506805853702487822556839694236335223799838672178214412607081024720260067863339647343566495695488504828244476287662436061763358324339186924409472127331825123169826235217852010072759128421705489609236630242648038627945674411678635358879491754921195258286507456066753418184799362641711081392267426532048488013891690917707793761"
      ]
     },
     "execution_count": 26,
     "metadata": {},
     "output_type": "execute_result"
    }
   ],
   "source": [
    "int3**int2"
   ]
  },
  {
   "cell_type": "code",
   "execution_count": 27,
   "id": "8497a628",
   "metadata": {},
   "outputs": [
    {
     "data": {
      "text/plain": [
       "621950086035908716574564887684926893779987503572720065491369638760246530692206100093701303968024304002379123181312732299228493113091850698107633419499605756903831414859812386775662530229225818426323881977694035510173998584353885642635206211366783929922647081509916541631736620131768385853629813107034312890742042987964948265656554548588417180406036010925668357426310867575932404790319654453598872774565804192293654714652491818300041720569098898555856187344896640959273117118979245206104976178327405963181072610224501300225540014199223663472892433698067947566713984761043004983463476349136850461029707788193552709462566349020895368721042514380045496344651982428434627594628267027911140930637543870387384882720604101085679535429477631083940232390484934092715448563826068399663014433222759456011650586236618035240568498609714106263388017909112369290330998252339926013316720159459785373607004087620145714577634759840424288805011619741297510771483554979921664733686819391302204247726314972322900117218541316499672281962637449305585782382890526875672989567912304027607997145762533722360630267465398384247202700562824290438431881323130461304280488835172405786853927526944212731483497624223466780017514813928611358152640728936813357382994264356058158867310986906232618797300832208501146271007721928517336756476331588312244097976688568624112414513321438313757646635865307373257075582759204127049257034240255465178966396489874417614755779896914881337812058292919094425161886250971007114725806846904466232520116220147468174310465198679005949586162039696858389678303237664753675709026344174054174831355692480241626118259613590055112494087312089806300408571154470827481785694437699709440884079541272215737140258738013083307726504237458110368837472872641003454166902571468605040556456762781701773882864412519000253633181611922636562683224879050984874180920491658971686859672514717247169716081145367447051408927547937659220118560492010193976896096178148722814032649596876207192585145389181552128836528467602116917058697227412678394925334988912572457129325576603809785314313298199096656672322414864617820978959469326966140253586882050909096399355399415880924676231091250192027744513722003862787974143497947656543786288821919434556713955481146255118272391911667343833892581074968912706597400154536688709"
      ]
     },
     "execution_count": 27,
     "metadata": {},
     "output_type": "execute_result"
    }
   ],
   "source": [
    "int3**int3"
   ]
  },
  {
   "cell_type": "code",
   "execution_count": 29,
   "id": "30d913da",
   "metadata": {},
   "outputs": [
    {
     "data": {
      "text/plain": [
       "1.1437436793461719e+257"
      ]
     },
     "execution_count": 29,
     "metadata": {},
     "output_type": "execute_result"
    }
   ],
   "source": [
    "float1**float1"
   ]
  },
  {
   "cell_type": "code",
   "execution_count": 30,
   "id": "caf77006",
   "metadata": {},
   "outputs": [
    {
     "data": {
      "text/plain": [
       "-0.45205267588297"
      ]
     },
     "execution_count": 30,
     "metadata": {},
     "output_type": "execute_result"
    }
   ],
   "source": [
    "from math import *\n",
    "sin(int2)"
   ]
  },
  {
   "cell_type": "code",
   "execution_count": 31,
   "id": "d30c6d39",
   "metadata": {},
   "outputs": [
    {
     "data": {
      "text/plain": [
       "-0.4441666848300092"
      ]
     },
     "execution_count": 31,
     "metadata": {},
     "output_type": "execute_result"
    }
   ],
   "source": [
    "from math import *\n",
    "sin(float3)"
   ]
  },
  {
   "cell_type": "code",
   "execution_count": 34,
   "id": "816ced70",
   "metadata": {},
   "outputs": [
    {
     "data": {
      "text/plain": [
       "True"
      ]
     },
     "execution_count": 34,
     "metadata": {},
     "output_type": "execute_result"
    }
   ],
   "source": [
    "x=int2\n",
    "complex1=456+0j\n",
    "y=complex1\n",
    "x==y"
   ]
  },
  {
   "cell_type": "code",
   "execution_count": 35,
   "id": "17c9a1fe",
   "metadata": {},
   "outputs": [
    {
     "data": {
      "text/plain": [
       "int"
      ]
     },
     "execution_count": 35,
     "metadata": {},
     "output_type": "execute_result"
    }
   ],
   "source": [
    "type(x)"
   ]
  },
  {
   "cell_type": "code",
   "execution_count": 36,
   "id": "05aec139",
   "metadata": {},
   "outputs": [
    {
     "data": {
      "text/plain": [
       "complex"
      ]
     },
     "execution_count": 36,
     "metadata": {},
     "output_type": "execute_result"
    }
   ],
   "source": [
    "type(y)"
   ]
  },
  {
   "cell_type": "code",
   "execution_count": 37,
   "id": "4dab96a4",
   "metadata": {},
   "outputs": [
    {
     "data": {
      "text/plain": [
       "True"
      ]
     },
     "execution_count": 37,
     "metadata": {},
     "output_type": "execute_result"
    }
   ],
   "source": [
    "y=float2\n",
    "complex2=456.0+0j\n",
    "z=complex2\n",
    "y==z"
   ]
  },
  {
   "cell_type": "code",
   "execution_count": 38,
   "id": "77c850df",
   "metadata": {},
   "outputs": [
    {
     "data": {
      "text/plain": [
       "(912+0j)"
      ]
     },
     "execution_count": 38,
     "metadata": {},
     "output_type": "execute_result"
    }
   ],
   "source": [
    "int2+complex2"
   ]
  },
  {
   "cell_type": "code",
   "execution_count": 39,
   "id": "354cb04d",
   "metadata": {},
   "outputs": [
    {
     "data": {
      "text/plain": [
       "(912+0j)"
      ]
     },
     "execution_count": 39,
     "metadata": {},
     "output_type": "execute_result"
    }
   ],
   "source": [
    "complex2+int2"
   ]
  },
  {
   "cell_type": "code",
   "execution_count": 40,
   "id": "490d8667",
   "metadata": {},
   "outputs": [
    {
     "data": {
      "text/plain": [
       "(912+0j)"
      ]
     },
     "execution_count": 40,
     "metadata": {},
     "output_type": "execute_result"
    }
   ],
   "source": [
    "float2+complex2"
   ]
  },
  {
   "cell_type": "code",
   "execution_count": 41,
   "id": "38193f5e",
   "metadata": {},
   "outputs": [],
   "source": [
    "complex1=123+0j\n",
    "complex2=123.0+0j\n",
    "complex3=3+2j\n",
    "complex4=5.0+2.0j"
   ]
  },
  {
   "cell_type": "code",
   "execution_count": 42,
   "id": "5fce3861",
   "metadata": {},
   "outputs": [
    {
     "data": {
      "text/plain": [
       "123.0"
      ]
     },
     "execution_count": 42,
     "metadata": {},
     "output_type": "execute_result"
    }
   ],
   "source": [
    "complex1.real"
   ]
  },
  {
   "cell_type": "code",
   "execution_count": 44,
   "id": "a3b1f609",
   "metadata": {},
   "outputs": [
    {
     "data": {
      "text/plain": [
       "2.0"
      ]
     },
     "execution_count": 44,
     "metadata": {},
     "output_type": "execute_result"
    }
   ],
   "source": [
    "complex3.imag"
   ]
  },
  {
   "cell_type": "code",
   "execution_count": 45,
   "id": "461566b6",
   "metadata": {},
   "outputs": [
    {
     "data": {
      "text/plain": [
       "0"
      ]
     },
     "execution_count": 45,
     "metadata": {},
     "output_type": "execute_result"
    }
   ],
   "source": [
    "4%2"
   ]
  },
  {
   "cell_type": "code",
   "execution_count": 46,
   "id": "e57bff23",
   "metadata": {},
   "outputs": [
    {
     "data": {
      "text/plain": [
       "1"
      ]
     },
     "execution_count": 46,
     "metadata": {},
     "output_type": "execute_result"
    }
   ],
   "source": [
    "4%3"
   ]
  },
  {
   "cell_type": "code",
   "execution_count": 47,
   "id": "2edb61d7",
   "metadata": {},
   "outputs": [
    {
     "data": {
      "text/plain": [
       "False"
      ]
     },
     "execution_count": 47,
     "metadata": {},
     "output_type": "execute_result"
    }
   ],
   "source": [
    "4%2==2"
   ]
  },
  {
   "cell_type": "code",
   "execution_count": 48,
   "id": "1f99e697",
   "metadata": {},
   "outputs": [
    {
     "data": {
      "text/plain": [
       "True"
      ]
     },
     "execution_count": 48,
     "metadata": {},
     "output_type": "execute_result"
    }
   ],
   "source": [
    "3<4"
   ]
  },
  {
   "cell_type": "code",
   "execution_count": 49,
   "id": "41368993",
   "metadata": {},
   "outputs": [
    {
     "data": {
      "text/plain": [
       "False"
      ]
     },
     "execution_count": 49,
     "metadata": {},
     "output_type": "execute_result"
    }
   ],
   "source": [
    "3<4^5>=2"
   ]
  },
  {
   "cell_type": "code",
   "execution_count": 50,
   "id": "4a0f3af8",
   "metadata": {},
   "outputs": [
    {
     "data": {
      "text/plain": [
       "True"
      ]
     },
     "execution_count": 50,
     "metadata": {},
     "output_type": "execute_result"
    }
   ],
   "source": [
    "5>=2"
   ]
  },
  {
   "cell_type": "code",
   "execution_count": 51,
   "id": "8af70eb2",
   "metadata": {},
   "outputs": [
    {
     "data": {
      "text/plain": [
       "1"
      ]
     },
     "execution_count": 51,
     "metadata": {},
     "output_type": "execute_result"
    }
   ],
   "source": [
    "4^5"
   ]
  },
  {
   "cell_type": "code",
   "execution_count": 52,
   "id": "a58a0dc2",
   "metadata": {},
   "outputs": [
    {
     "data": {
      "text/plain": [
       "12"
      ]
     },
     "execution_count": 52,
     "metadata": {},
     "output_type": "execute_result"
    }
   ],
   "source": [
    "4^8"
   ]
  },
  {
   "cell_type": "code",
   "execution_count": 54,
   "id": "a119f391",
   "metadata": {},
   "outputs": [],
   "source": [
    "string1='I hate Python'"
   ]
  },
  {
   "cell_type": "code",
   "execution_count": 55,
   "id": "91cf601b",
   "metadata": {},
   "outputs": [
    {
     "data": {
      "text/plain": [
       "13"
      ]
     },
     "execution_count": 55,
     "metadata": {},
     "output_type": "execute_result"
    }
   ],
   "source": [
    "len(string1)"
   ]
  },
  {
   "cell_type": "code",
   "execution_count": 58,
   "id": "77874ab9",
   "metadata": {},
   "outputs": [
    {
     "name": "stdout",
     "output_type": "stream",
     "text": [
      "10\n",
      "11\n"
     ]
    }
   ],
   "source": [
    "from random import randint\n",
    "a=randint(2,30)\n",
    "b=randint(2,30)\n",
    "print(a)\n",
    "print(b)"
   ]
  },
  {
   "cell_type": "code",
   "execution_count": null,
   "id": "00434c79",
   "metadata": {},
   "outputs": [],
   "source": []
  }
 ],
 "metadata": {
  "kernelspec": {
   "display_name": "Python 3 (ipykernel)",
   "language": "python",
   "name": "python3"
  },
  "language_info": {
   "codemirror_mode": {
    "name": "ipython",
    "version": 3
   },
   "file_extension": ".py",
   "mimetype": "text/x-python",
   "name": "python",
   "nbconvert_exporter": "python",
   "pygments_lexer": "ipython3",
   "version": "3.9.13"
  }
 },
 "nbformat": 4,
 "nbformat_minor": 5
}
